{
 "cells": [
  {
   "cell_type": "markdown",
   "metadata": {},
   "source": [
    "Este projeto é uma análise exploratória do dataset Intel Image Classification, disponível no Kaggle. O dataset contém 25 mil imagens de 6 classes diferentes, sendo elas: buildings, forest, glacier, mountain, sea e street. O objetivo é classificar as imagens de acordo com a classe a qual pertencem.\n",
    "\n"
   ]
  },
  {
   "cell_type": "code",
   "execution_count": null,
   "metadata": {},
   "outputs": [],
   "source": [
    "import numpy as np\n",
    "import tensorflow as tf\n",
    "import keras\n",
    "from keras.models import Sequential\n",
    "from keras.layers import Activation, Dense, Flatten, Convolution2D, MaxPooling2D\n",
    "from keras.optimizers import Adam\n",
    "from keras.metrics import categorical_crossentropy"
   ]
  },
  {
   "cell_type": "markdown",
   "metadata": {},
   "source": [
    "### Preparing Dataset"
   ]
  },
  {
   "cell_type": "code",
   "execution_count": null,
   "metadata": {},
   "outputs": [],
   "source": [
    "train_dataset = keras.utils.image_dataset_from_directory('./seg_train', batch_size=64, image_size=(150, 150),  label_mode='categorical')\n",
    "validation_dataset = keras.utils.image_dataset_from_directory('./seg_test', batch_size=64, image_size=(150, 150),  label_mode='categorical')\n",
    "# prediction_dataset = keras.utils.image_dataset_from_directory('./seg_pred', batch_size=64,  shuffle=True, image_size=(150, 150))"
   ]
  },
  {
   "cell_type": "markdown",
   "metadata": {},
   "source": [
    "## Exploratore Analysis"
   ]
  },
  {
   "cell_type": "markdown",
   "metadata": {},
   "source": [
    "Como veremos abaixo, o dataset é composto por imagens de 150x150 pixels, coloridas e com 3 canais (RGB). Além disso, o dataset é balanceado, ou seja, possui a mesma quantidade de imagens para cada classe.\n",
    "Exibiremos algumas imagens do dataset para melhor entendimento.\n",
    "\n"
   ]
  },
  {
   "cell_type": "code",
   "execution_count": null,
   "metadata": {},
   "outputs": [],
   "source": [
    "# # Describe some characteristics of the dataset.\n",
    "# print(train_dataset.class_names)\n",
    "# print(validation_dataset.class_names)\n",
    "# print(train_dataset)\n",
    "# print(validation_dataset)\n",
    "\n",
    "# # Visualize one of the images in the dataset.\n",
    "# import matplotlib.pyplot as plt\n",
    "\n",
    "# plt.figure(figsize=(10, 10))\n",
    "# for images, labels in train_dataset.take(1):\n",
    "#     for i in range(9):\n",
    "#         ax = plt.subplot(3, 3, i + 1)\n",
    "#         plt.imshow(images[i].numpy().astype(\"uint8\"))\n",
    "#         plt.title(train_dataset.class_names[labels[i]])\n",
    "#         plt.axis(\"off\")"
   ]
  },
  {
   "cell_type": "markdown",
   "metadata": {},
   "source": [
    "### Model Definition"
   ]
  },
  {
   "cell_type": "markdown",
   "metadata": {},
   "source": [
    "We opted in to store all the neural newtorks in a dictionary, so we can easily access them later on.\n"
   ]
  },
  {
   "cell_type": "code",
   "execution_count": null,
   "metadata": {},
   "outputs": [],
   "source": [
    "neural_networks = [\n",
    "    {\n",
    "        'description': 'Conv2D_MaxPooling_Conv2D',\n",
    "        'model': Sequential([\n",
    "                    Convolution2D(filters=32, kernel_size=(3, 3), activation='relu', input_shape=(150, 150, 3)),\n",
    "                    MaxPooling2D(pool_size=(2, 2)),\n",
    "                    Convolution2D(filters=32, kernel_size=(3, 3), activation='relu'),\n",
    "                    Flatten(input_shape=(150, 150, 3)),\n",
    "                    Dense(units=6, activation='softmax')\n",
    "                    ]\n",
    "                ),\n",
    "        'epochs': 1,\n",
    "        'optimizer': Adam(learning_rate=0.0001),\n",
    "        'loss_function': 'categorical_crossentropy',\n",
    "        'accuracy': None,\n",
    "        'loss': None,\n",
    "        'training_time': None,\n",
    "    }\n",
    "]"
   ]
  },
  {
   "cell_type": "code",
   "execution_count": null,
   "metadata": {},
   "outputs": [],
   "source": [
    "for nn in neural_networks:\n",
    "    model = nn['model']\n",
    "    model.compile(optimizer=nn['optimizer'], loss=nn['loss_function'], metrics=['accuracy'])"
   ]
  },
  {
   "cell_type": "markdown",
   "metadata": {},
   "source": [
    "### Model Training"
   ]
  },
  {
   "cell_type": "code",
   "execution_count": null,
   "metadata": {},
   "outputs": [],
   "source": [
    "for nn in neural_networks:\n",
    "    model = nn['model']\n",
    "    model.fit(\n",
    "        train_dataset,\n",
    "        # validation_data=validation_dataset,\n",
    "        epochs=nn['epochs'],\n",
    "        verbose=1\n",
    "    )\n",
    "    model.save('models/' + nn['description'] + '.h5')\n"
   ]
  },
  {
   "cell_type": "markdown",
   "metadata": {},
   "source": [
    "### Model Predition"
   ]
  },
  {
   "cell_type": "code",
   "execution_count": null,
   "metadata": {},
   "outputs": [],
   "source": [
    "for nn in neural_networks:\n",
    "    model = nn['model']\n",
    "    # print(prediction_dataset)\n",
    "    print(model.summary())\n",
    "    model.evaluate(validation_dataset, verbose=1)\n",
    "\n",
    "# predictions = model.predict(prediction_dataset, verbose=2)"
   ]
  },
  {
   "cell_type": "markdown",
   "metadata": {},
   "source": [
    "## Visualizing"
   ]
  },
  {
   "cell_type": "code",
   "execution_count": 25,
   "metadata": {},
   "outputs": [
    {
     "name": "stdout",
     "output_type": "stream",
     "text": [
      "47/47 [==============================] - 6s 126ms/step\n"
     ]
    }
   ],
   "source": [
    "from sklearn.metrics import confusion_matrix\n",
    "\n",
    "y_pred = np.argmax(model.predict(validation_dataset), axis=1)\n",
    "y_true = np.concatenate([y for x, y in validation_dataset], axis=0)\n",
    "y_true = np.argmax(y_true, axis=1)  \n",
    "cm = confusion_matrix(y_true, y_pred)"
   ]
  },
  {
   "cell_type": "code",
   "execution_count": 27,
   "metadata": {},
   "outputs": [],
   "source": [
    "cm = cm.astype('float') / cm.sum(axis=1)[:, np.newaxis]"
   ]
  },
  {
   "cell_type": "code",
   "execution_count": 30,
   "metadata": {},
   "outputs": [
    {
     "data": {
      "image/png": "[encoded data removed]",
      "text/plain": [
       "<Figure size 500x500 with 2 Axes>"
      ]
     },
     "metadata": {},
     "output_type": "display_data"
    }
   ],
   "source": [
    "import seaborn as sns\n",
    "import matplotlib.pyplot as plt\n",
    "\n",
    "plt.figure(figsize=(5, 5))\n",
    "sns.heatmap(cm, annot=True, cmap=plt.cm.Blues)\n",
    "plt.xlabel(\"Predicted\")\n",
    "plt.ylabel(\"Actual\")\n",
    "plt.show()"
   ]
  },
  {
   "cell_type": "code",
   "execution_count": null,
   "metadata": {},
   "outputs": [],
   "source": []
  }
 ],
 "metadata": {
  "kernelspec": {
   "display_name": "ml",
   "language": "python",
   "name": "python3"
  },
  "language_info": {
   "codemirror_mode": {
    "name": "ipython",
    "version": 3
   },
   "file_extension": ".py",
   "mimetype": "text/x-python",
   "name": "python",
   "nbconvert_exporter": "python",
   "pygments_lexer": "ipython3",
   "version": "3.9.0"
  }
 },
 "nbformat": 4,
 "nbformat_minor": 2
}
