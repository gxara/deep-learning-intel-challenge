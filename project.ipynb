{
 "cells": [
  {
   "cell_type": "markdown",
   "metadata": {},
   "source": [
    "Este projeto é uma análise exploratória do dataset Intel Image Classification, disponível no Kaggle. O dataset contém 25 mil imagens de 6 classes diferentes, sendo elas: buildings, forest, glacier, mountain, sea e street. O objetivo é classificar as imagens de acordo com a classe a qual pertencem.\n",
    "\n"
   ]
  },
  {
   "cell_type": "code",
   "execution_count": 8,
   "metadata": {},
   "outputs": [],
   "source": [
    "import numpy as np\n",
    "import tensorflow as tf\n",
    "import keras\n",
    "from keras.models import Sequential\n",
    "from keras.layers import Activation, Dense, Flatten, Convolution2D, MaxPooling2D\n",
    "from keras.optimizers import Adam\n",
    "from keras.metrics import categorical_crossentropy\n",
    "import seaborn as sns\n",
    "import matplotlib.pyplot as plt\n"
   ]
  },
  {
   "cell_type": "markdown",
   "metadata": {},
   "source": [
    "### Verificando se existe GPU disponível"
   ]
  },
  {
   "cell_type": "code",
   "execution_count": 9,
   "metadata": {},
   "outputs": [
    {
     "name": "stdout",
     "output_type": "stream",
     "text": [
      "Num GPUs Available:  0\n"
     ]
    }
   ],
   "source": [
    "physical_devices = tf.config.experimental.list_physical_devices('GPU')\n",
    "print(\"Num GPUs Available: \", len(physical_devices))"
   ]
  },
  {
   "cell_type": "markdown",
   "metadata": {},
   "source": [
    "### Preparing Dataset"
   ]
  },
  {
   "cell_type": "code",
   "execution_count": 10,
   "metadata": {},
   "outputs": [
    {
     "name": "stdout",
     "output_type": "stream",
     "text": [
      "Found 14034 files belonging to 6 classes.\n",
      "Using 11228 files for training.\n",
      "Using 2806 files for validation.\n"
     ]
    }
   ],
   "source": [
    "train_dataset, validation_dataset = keras.utils.image_dataset_from_directory('./seg_train',\n",
    "                                                         class_names=['buildings', 'forest', 'glacier', 'mountain', 'sea', 'street'],\n",
    "                                                         image_size=(150, 150),\n",
    "                                                         validation_split=0.2,\n",
    "                                                         seed=123,\n",
    "                                                         subset='both',\n",
    "                                                         label_mode='categorical')\n",
    "\n",
    "\n",
    "# prediction_dataset = keras.utils.image_dataset_from_directory('./seg_pred', batch_size=64,  shuffle=True, image_size=(150, 150))"
   ]
  },
  {
   "cell_type": "markdown",
   "metadata": {},
   "source": [
    "## Exploratore Analysis"
   ]
  },
  {
   "cell_type": "markdown",
   "metadata": {},
   "source": [
    "Como veremos abaixo, o dataset é composto por imagens de 150x150 pixels, coloridas e com 3 canais (RGB). Além disso, o dataset é balanceado, ou seja, possui a mesma quantidade de imagens para cada classe.\n",
    "Exibiremos algumas imagens do dataset para melhor entendimento.\n",
    "\n"
   ]
  },
  {
   "cell_type": "code",
   "execution_count": 11,
   "metadata": {},
   "outputs": [],
   "source": [
    "# # Describe some characteristics of the dataset.\n",
    "# print(train_dataset.class_names)\n",
    "# print(validation_dataset.class_names)\n",
    "# print(train_dataset)\n",
    "# print(validation_dataset)\n",
    "\n",
    "# # Visualize one of the images in the dataset.\n",
    "# import matplotlib.pyplot as plt\n",
    "\n",
    "# plt.figure(figsize=(10, 10))\n",
    "# for images, labels in train_dataset.take(1):\n",
    "#     for i in range(9):\n",
    "#         ax = plt.subplot(3, 3, i + 1)\n",
    "#         plt.imshow(images[i].numpy().astype(\"uint8\"))\n",
    "#         plt.title(train_dataset.class_names[labels[i]])\n",
    "#         plt.axis(\"off\")"
   ]
  },
  {
   "cell_type": "markdown",
   "metadata": {},
   "source": [
    "### Model Definition"
   ]
  },
  {
   "cell_type": "markdown",
   "metadata": {},
   "source": [
    "We opted in to store all the neural newtorks in a dictionary, so we can easily access them later on.\n"
   ]
  },
  {
   "cell_type": "code",
   "execution_count": 21,
   "metadata": {},
   "outputs": [],
   "source": [
    "neural_networks = []    \n",
    "\n",
    "# neural_networks.append({\n",
    "#         'description': 'Conv2D',\n",
    "#         'model': Sequential([\n",
    "#                     Convolution2D(filters=32, kernel_size=(3, 3), activation='relu', input_shape=(150, 150, 3)),\n",
    "#                     Flatten(input_shape=(150, 150, 3)),\n",
    "#                     Dense(units=6, activation='softmax')\n",
    "#                     ]\n",
    "#                 ),\n",
    "#         'epochs': 7,\n",
    "#         'optimizer': Adam(learning_rate=0.0001),\n",
    "#         'loss_function': 'categorical_crossentropy',\n",
    "#         'accuracy': None,   \n",
    "#         'loss': None,\n",
    "#         'training_time': None,\n",
    "#         \"history\": None\n",
    "#     }\n",
    "# )\n",
    "\n",
    "# neural_networks.append(\n",
    "#     {\n",
    "#         'description': 'Conv2D_MaxPooling_Conv2D',\n",
    "#         'model': Sequential([\n",
    "#                     Convolution2D(filters=32, kernel_size=(3, 3), activation='relu', input_shape=(150, 150, 3)),\n",
    "#                     MaxPooling2D(pool_size=(2, 2)),\n",
    "#                     Convolution2D(filters=32, kernel_size=(3, 3), activation='relu'),\n",
    "#                     Flatten(input_shape=(150, 150, 3)),\n",
    "#                     Dense(units=6, activation='softmax')\n",
    "#                     ]\n",
    "#                 ),\n",
    "#         'epochs': 7,\n",
    "#         'optimizer': Adam(learning_rate=0.0001),\n",
    "#         'loss_function': 'categorical_crossentropy',\n",
    "#         'accuracy': None,\n",
    "#         'loss': None,\n",
    "#         'training_time': None,\n",
    "#         \"history\": None\n",
    "#     }\n",
    "# )\n",
    "\n",
    "# neural_networks.append(\n",
    "#     {\n",
    "#         'description': 'Conv2D_MaxPooling_Conv2D_MaxPooling',\n",
    "#         'model': Sequential([\n",
    "#                     Convolution2D(filters=32, kernel_size=(3, 3), activation='relu', input_shape=(150, 150, 3)),\n",
    "#                     MaxPooling2D(pool_size=(2, 2)),\n",
    "#                     Convolution2D(filters=32, kernel_size=(3, 3), activation='relu'),\n",
    "#                     MaxPooling2D(pool_size=(2, 2)),\n",
    "#                     Flatten(input_shape=(150, 150, 3)),\n",
    "#                     Dense(units=6, activation='softmax')\n",
    "#                     ]\n",
    "#                 ),\n",
    "#         'epochs': 7,\n",
    "#         'optimizer': Adam(learning_rate=0.0001),\n",
    "#         'loss_function': 'categorical_crossentropy',\n",
    "#         'accuracy': None,\n",
    "#         'loss': None,\n",
    "#         'training_time': None,\n",
    "#         \"history\": None\n",
    "#     }\n",
    "# )\n",
    "\n",
    "# neural_networks.append(\n",
    "#     {\n",
    "#         'description': 'Conv2D_MaxPooling_Conv2D_MaxPooling_Conv2D_MaxPooling',\n",
    "#         'model': Sequential([\n",
    "#                     Convolution2D(filters=32, kernel_size=(3, 3), activation='relu', input_shape=(150, 150, 3)),\n",
    "#                     MaxPooling2D(pool_size=(2, 2)),\n",
    "#                     Convolution2D(filters=32, kernel_size=(3, 3), activation='relu'),\n",
    "#                     MaxPooling2D(pool_size=(2, 2)),\n",
    "#                     Convolution2D(filters=32, kernel_size=(3, 3), activation='relu'),\n",
    "#                     MaxPooling2D(pool_size=(2, 2)),\n",
    "#                     Flatten(input_shape=(150, 150, 3)),\n",
    "#                     Dense(units=6, activation='softmax')\n",
    "#                     ]\n",
    "#                 ),\n",
    "#         'epochs': 20,\n",
    "#         'optimizer': Adam(learning_rate=0.0001),\n",
    "#         'loss_function': 'categorical_crossentropy',\n",
    "#         'accuracy': None,\n",
    "#         'loss': None,\n",
    "#         'training_time': None,\n",
    "#         \"history\": None\n",
    "#     }\n",
    "# )\n",
    "\n",
    "# neural_networks.append(\n",
    "#     {\n",
    "#         'description': 'Conv2D64F_MaxPooling_Conv2D_MaxPooling',\n",
    "#         'model': Sequential([\n",
    "#                     Convolution2D(filters=64, kernel_size=(3, 3), activation='relu', input_shape=(150, 150, 3)),\n",
    "#                     MaxPooling2D(pool_size=(2, 2)),\n",
    "#                     Convolution2D(filters=32, kernel_size=(3, 3), activation='relu'),\n",
    "#                     MaxPooling2D(pool_size=(2, 2)),\n",
    "#                     # Convolution2D(filters=32, kernel_size=(3, 3), activation='relu'),\n",
    "#                     # MaxPooling2D(pool_size=(2, 2)),\n",
    "#                     Flatten(input_shape=(150, 150, 3)),\n",
    "#                     Dense(units=6, activation='softmax')\n",
    "#                     ]\n",
    "#                 ),\n",
    "#         'epochs': 10,\n",
    "#         'optimizer': Adam(learning_rate=0.0001),\n",
    "#         'loss_function': 'categorical_crossentropy',\n",
    "#         'accuracy': None,\n",
    "#         'loss': None,\n",
    "#         'training_time': None,\n",
    "#         \"history\": None\n",
    "#     }\n",
    "# )\n",
    "\n",
    "# Appending VGG16\n",
    "from keras.applications.vgg16 import VGG16\n",
    "vgg16 = VGG16(include_top=False, input_shape=(150, 150, 3))\n",
    "vgg16.trainable = False\n",
    "neural_networks.append(\n",
    "    {\n",
    "        'description': 'VGG16',\n",
    "        'model': Sequential([\n",
    "                    vgg16,\n",
    "                    Flatten(input_shape=(150, 150, 3)),\n",
    "                    Dense(units=6, activation='softmax')\n",
    "                    ]\n",
    "                ),\n",
    "        'epochs': 7,\n",
    "        'optimizer': Adam(learning_rate=0.0001),\n",
    "        'loss_function': 'categorical_crossentropy',\n",
    "        'accuracy': None,\n",
    "        'loss': None,\n",
    "        'training_time': None,\n",
    "        \"history\": None\n",
    "    }\n",
    ")"
   ]
  },
  {
   "cell_type": "code",
   "execution_count": 22,
   "metadata": {},
   "outputs": [],
   "source": [
    "for nn in neural_networks:\n",
    "    model = nn['model']\n",
    "    model.compile(optimizer=nn['optimizer'], loss=nn['loss_function'], metrics=['accuracy'])"
   ]
  },
  {
   "cell_type": "markdown",
   "metadata": {},
   "source": [
    "### Model Training"
   ]
  },
  {
   "cell_type": "code",
   "execution_count": 23,
   "metadata": {},
   "outputs": [
    {
     "name": "stdout",
     "output_type": "stream",
     "text": [
      "Loaded model from disk\n"
     ]
    }
   ],
   "source": [
    "for nn in neural_networks:\n",
    "    model = nn['model']\n",
    "\n",
    "    try:\n",
    "        model.load_weights('models_80_20/' + nn['description'] + '.h5')\n",
    "        print('Loaded model from disk')\n",
    "    except:\n",
    "        print('No model found')\n",
    "\n",
    "\n",
    "        nn[\"history\"] = model.fit(\n",
    "            train_dataset,\n",
    "            epochs=nn['epochs'],\n",
    "            verbose=2,\n",
    "            validation_data=validation_dataset\n",
    "        )\n",
    "\n",
    "        model.save('models_80_20/' + nn['description'] + '.h5')\n"
   ]
  },
  {
   "cell_type": "code",
   "execution_count": 24,
   "metadata": {},
   "outputs": [
    {
     "ename": "AttributeError",
     "evalue": "'NoneType' object has no attribute 'history'",
     "output_type": "error",
     "traceback": [
      "\u001b[0;31m---------------------------------------------------------------------------\u001b[0m",
      "\u001b[0;31mAttributeError\u001b[0m                            Traceback (most recent call last)",
      "\u001b[1;32m/home/gxara/deep_learning/project.ipynb Cell 16\u001b[0m line \u001b[0;36m6\n\u001b[1;32m      <a href='vscode-notebook-cell:/home/gxara/deep_learning/project.ipynb#X21sZmlsZQ%3D%3D?line=3'>4</a>\u001b[0m fig \u001b[39m=\u001b[39m plt\u001b[39m.\u001b[39mfigure(figsize\u001b[39m=\u001b[39m(\u001b[39m18\u001b[39m, \u001b[39m5\u001b[39m))\n\u001b[1;32m      <a href='vscode-notebook-cell:/home/gxara/deep_learning/project.ipynb#X21sZmlsZQ%3D%3D?line=4'>5</a>\u001b[0m fig\u001b[39m.\u001b[39madd_subplot(\u001b[39m1\u001b[39m, \u001b[39m2\u001b[39m, \u001b[39m1\u001b[39m)\n\u001b[0;32m----> <a href='vscode-notebook-cell:/home/gxara/deep_learning/project.ipynb#X21sZmlsZQ%3D%3D?line=5'>6</a>\u001b[0m plt\u001b[39m.\u001b[39mplot(nn[\u001b[39m\"\u001b[39;49m\u001b[39mhistory\u001b[39;49m\u001b[39m\"\u001b[39;49m]\u001b[39m.\u001b[39;49mhistory[\u001b[39m'\u001b[39m\u001b[39maccuracy\u001b[39m\u001b[39m'\u001b[39m])\n\u001b[1;32m      <a href='vscode-notebook-cell:/home/gxara/deep_learning/project.ipynb#X21sZmlsZQ%3D%3D?line=6'>7</a>\u001b[0m plt\u001b[39m.\u001b[39mtitle(\u001b[39mf\u001b[39m\u001b[39m'\u001b[39m\u001b[39mAccuracy | \u001b[39m\u001b[39m{\u001b[39;00mnn[\u001b[39m\"\u001b[39m\u001b[39mdescription\u001b[39m\u001b[39m\"\u001b[39m]\u001b[39m}\u001b[39;00m\u001b[39m'\u001b[39m)\n\u001b[1;32m      <a href='vscode-notebook-cell:/home/gxara/deep_learning/project.ipynb#X21sZmlsZQ%3D%3D?line=7'>8</a>\u001b[0m plt\u001b[39m.\u001b[39mxlabel(\u001b[39m'\u001b[39m\u001b[39mEpoch\u001b[39m\u001b[39m'\u001b[39m)\n",
      "\u001b[0;31mAttributeError\u001b[0m: 'NoneType' object has no attribute 'history'"
     ]
    },
    {
     "data": {
      "image/png": "[encoded data removed]",
      "text/plain": [
       "<Figure size 1800x500 with 1 Axes>"
      ]
     },
     "metadata": {},
     "output_type": "display_data"
    }
   ],
   "source": [
    "for nn in neural_networks:\n",
    "    # model = nn['model']\n",
    "\n",
    "    fig = plt.figure(figsize=(18, 5))\n",
    "    fig.add_subplot(1, 2, 1)\n",
    "    plt.plot(nn[\"history\"].history['accuracy'])\n",
    "    plt.title(f'Accuracy | {nn[\"description\"]}')\n",
    "    plt.xlabel('Epoch')\n",
    "    plt.ylabel('Accuracy')\n",
    "    fig.add_subplot(1, 2, 2)\n",
    "    plt.plot(nn[\"history\"].history['loss'])\n",
    "    plt.title(f'Loss | {nn[\"description\"]}')\n",
    "    plt.ylabel('loss')\n",
    "    plt.xlabel('Epoch')\n",
    "    plt.show()\n"
   ]
  },
  {
   "cell_type": "markdown",
   "metadata": {},
   "source": [
    "### Model Prediction"
   ]
  },
  {
   "cell_type": "code",
   "execution_count": 16,
   "metadata": {},
   "outputs": [],
   "source": [
    "# for nn in neural_networks:\n",
    "#     model = nn['model']\n",
    "#     print(model.summary())\n",
    "#     model.evaluate(validation_dataset, verbose=1)\n",
    "\n",
    "# predictions = model.predict(prediction_dataset, verbose=2)"
   ]
  },
  {
   "cell_type": "markdown",
   "metadata": {},
   "source": [
    "## Visualizing"
   ]
  },
  {
   "cell_type": "code",
   "execution_count": 25,
   "metadata": {},
   "outputs": [
    {
     "name": "stdout",
     "output_type": "stream",
     "text": [
      "Found 3000 files belonging to 6 classes.\n"
     ]
    }
   ],
   "source": [
    "from sklearn.metrics import confusion_matrix\n",
    "\n",
    "\n",
    "test_dataset = keras.utils.image_dataset_from_directory('./seg_test',\n",
    "                                                              batch_size=64,\n",
    "                                                              class_names=['buildings', 'forest', 'glacier', 'mountain', 'sea', 'street'],\n",
    "                                                              image_size=(150, 150),\n",
    "                                                              shuffle=True,\n",
    "                                                              label_mode='categorical')\n",
    "\n",
    "\n",
    "for nn in neural_networks:\n",
    "    model = nn['model']        \n",
    "\n",
    "\n",
    "    y_true = []\n",
    "    y_predicted = []\n",
    "\n",
    "    for batch in test_dataset:\n",
    "\n",
    "        predicted_batch = model.predict(batch[0], verbose=0)\n",
    "        predicted_batch = np.argmax(predicted_batch, axis=1)\n",
    "        y_predicted.append(predicted_batch)\n",
    "\n",
    "\n",
    "        for label in batch[1]:\n",
    "            y_true.append(label)\n",
    "\n",
    "    y_true = np.argmax(y_true, axis=1)\n",
    "\n",
    "    y_predicted = np.concatenate(y_predicted, axis=0)\n",
    "\n",
    "    nn[\"confusion_matrix\"] = confusion_matrix(y_true, y_predicted)"
   ]
  },
  {
   "cell_type": "code",
   "execution_count": 26,
   "metadata": {},
   "outputs": [
    {
     "data": {
      "image/png": "[encoded data removed]",
      "text/plain": [
       "<Figure size 1000x1000 with 2 Axes>"
      ]
     },
     "metadata": {},
     "output_type": "display_data"
    }
   ],
   "source": [
    "import seaborn as sns\n",
    "import matplotlib.pyplot as plt\n",
    "\n",
    "for nn in neural_networks:\n",
    "    cm = nn[\"confusion_matrix\"]\n",
    "    plt.figure(figsize=(10, 10))\n",
    "    sns.heatmap(cm, annot=True, cmap=plt.cm.Blues, xticklabels=test_dataset.class_names, yticklabels=test_dataset.class_names)\n",
    "    plt.title(nn[\"description\"])\n",
    "    plt.xlabel(\"Predicted\")\n",
    "    plt.ylabel(\"Actual\")\n",
    "    plt.title(nn[\"description\"])\n",
    "    plt.show()\n",
    "\n"
   ]
  },
  {
   "cell_type": "code",
   "execution_count": 27,
   "metadata": {},
   "outputs": [
    {
     "name": "stdout",
     "output_type": "stream",
     "text": [
      "Accuracy of VGG16 model:\n",
      "0.8436666666666667\n",
      "Loss and Accuracy of VGG16 model:\n"
     ]
    },
    {
     "name": "stderr",
     "output_type": "stream",
     "text": [
      "2023-12-12 14:19:39.954126: W external/local_tsl/tsl/framework/cpu_allocator_impl.cc:83] Allocation of 368640000 exceeds 10% of free system memory.\n",
      "2023-12-12 14:19:40.037767: W external/local_tsl/tsl/framework/cpu_allocator_impl.cc:83] Allocation of 368640000 exceeds 10% of free system memory.\n"
     ]
    },
    {
     "name": "stdout",
     "output_type": "stream",
     "text": [
      " 1/47 [..............................] - ETA: 3:07 - loss: 1.5298 - accuracy: 0.8125"
     ]
    },
    {
     "name": "stderr",
     "output_type": "stream",
     "text": [
      "2023-12-12 14:19:43.524150: W external/local_tsl/tsl/framework/cpu_allocator_impl.cc:83] Allocation of 368640000 exceeds 10% of free system memory.\n",
      "2023-12-12 14:19:43.617600: W external/local_tsl/tsl/framework/cpu_allocator_impl.cc:83] Allocation of 368640000 exceeds 10% of free system memory.\n"
     ]
    },
    {
     "name": "stdout",
     "output_type": "stream",
     "text": [
      " 2/47 [>.............................] - ETA: 2:58 - loss: 1.4537 - accuracy: 0.8125"
     ]
    },
    {
     "name": "stderr",
     "output_type": "stream",
     "text": [
      "2023-12-12 14:19:47.486289: W external/local_tsl/tsl/framework/cpu_allocator_impl.cc:83] Allocation of 368640000 exceeds 10% of free system memory.\n"
     ]
    },
    {
     "name": "stdout",
     "output_type": "stream",
     "text": [
      "47/47 [==============================] - 290s 6s/step - loss: 1.6002 - accuracy: 0.8437\n"
     ]
    }
   ],
   "source": [
    "for nn in neural_networks:\n",
    "    model = nn[\"model\"]\n",
    "    # Print the accuracy of the model inside in the test dataset.\n",
    "    print(f'Accuracy of {nn[\"description\"]} model:')\n",
    "    print(np.trace(nn[\"confusion_matrix\"]) / np.sum(nn[\"confusion_matrix\"]))\n",
    "\n",
    "\n",
    "    # Print Loss and Accuracy of the model inside in the test dataset.\n",
    "    print(f'Loss and Accuracy of {nn[\"description\"]} model:')\n",
    "    model.evaluate(test_dataset, verbose=1)\n",
    "    \n",
    "    \n",
    "    "
   ]
  },
  {
   "cell_type": "code",
   "execution_count": null,
   "metadata": {},
   "outputs": [],
   "source": []
  }
 ],
 "metadata": {
  "kernelspec": {
   "display_name": "ml",
   "language": "python",
   "name": "python3"
  },
  "language_info": {
   "codemirror_mode": {
    "name": "ipython",
    "version": 3
   },
   "file_extension": ".py",
   "mimetype": "text/x-python",
   "name": "python",
   "nbconvert_exporter": "python",
   "pygments_lexer": "ipython3",
   "version": "3.9.0"
  }
 },
 "nbformat": 4,
 "nbformat_minor": 2
}
