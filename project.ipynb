{
 "cells": [
  {
   "cell_type": "markdown",
   "metadata": {},
   "source": [
    "Este projeto é uma análise exploratória do dataset Intel Image Classification, disponível no Kaggle. O dataset contém 25 mil imagens de 6 classes diferentes, sendo elas: buildings, forest, glacier, mountain, sea e street. O objetivo é classificar as imagens de acordo com a classe a qual pertencem.\n",
    "\n"
   ]
  },
  {
   "cell_type": "code",
   "execution_count": 1,
   "metadata": {},
   "outputs": [
    {
     "name": "stderr",
     "output_type": "stream",
     "text": [
      "2023-12-05 12:17:23.307695: I external/local_tsl/tsl/cuda/cudart_stub.cc:31] Could not find cuda drivers on your machine, GPU will not be used.\n",
      "2023-12-05 12:17:23.350036: E external/local_xla/xla/stream_executor/cuda/cuda_dnn.cc:9261] Unable to register cuDNN factory: Attempting to register factory for plugin cuDNN when one has already been registered\n",
      "2023-12-05 12:17:23.350067: E external/local_xla/xla/stream_executor/cuda/cuda_fft.cc:607] Unable to register cuFFT factory: Attempting to register factory for plugin cuFFT when one has already been registered\n",
      "2023-12-05 12:17:23.351513: E external/local_xla/xla/stream_executor/cuda/cuda_blas.cc:1515] Unable to register cuBLAS factory: Attempting to register factory for plugin cuBLAS when one has already been registered\n",
      "2023-12-05 12:17:23.357396: I external/local_tsl/tsl/cuda/cudart_stub.cc:31] Could not find cuda drivers on your machine, GPU will not be used.\n",
      "2023-12-05 12:17:23.357844: I tensorflow/core/platform/cpu_feature_guard.cc:182] This TensorFlow binary is optimized to use available CPU instructions in performance-critical operations.\n",
      "To enable the following instructions: AVX2 FMA, in other operations, rebuild TensorFlow with the appropriate compiler flags.\n",
      "2023-12-05 12:17:24.397628: W tensorflow/compiler/tf2tensorrt/utils/py_utils.cc:38] TF-TRT Warning: Could not find TensorRT\n"
     ]
    }
   ],
   "source": [
    "import numpy as np\n",
    "import tensorflow as tf\n",
    "import keras\n",
    "from keras.models import Sequential\n",
    "from keras.layers import Activation, Dense, Flatten, Convolution2D, MaxPooling2D\n",
    "from keras.optimizers import Adam\n",
    "from keras.metrics import categorical_crossentropy"
   ]
  },
  {
   "cell_type": "markdown",
   "metadata": {},
   "source": [
    "### Preparing Dataset"
   ]
  },
  {
   "cell_type": "code",
   "execution_count": 22,
   "metadata": {},
   "outputs": [
    {
     "name": "stdout",
     "output_type": "stream",
     "text": [
      "Found 14034 files belonging to 6 classes.\n",
      "Found 3000 files belonging to 6 classes.\n"
     ]
    }
   ],
   "source": [
    "train_dataset = keras.utils.image_dataset_from_directory(\n",
    "    './seg_train', batch_size=64, image_size=(150, 150),  label_mode='categorical')\n",
    "\n",
    "validation_dataset = keras.utils.image_dataset_from_directory(\n",
    "    './seg_test', batch_size=64, image_size=(150, 150),  label_mode='categorical')\n",
    "\n",
    "# prediction_dataset = keras.utils.image_dataset_from_directory(\n",
    "#     './seg_pred', batch_size=64, image_size=(150, 150))"
   ]
  },
  {
   "cell_type": "markdown",
   "metadata": {},
   "source": [
    "## Exploratore Analysis"
   ]
  },
  {
   "cell_type": "markdown",
   "metadata": {},
   "source": [
    "Como veremos abaixo, o dataset é composto por imagens de 150x150 pixels, coloridas e com 3 canais (RGB). Além disso, o dataset é balanceado, ou seja, possui a mesma quantidade de imagens para cada classe.\n",
    "Exibiremos algumas imagens do dataset para melhor entendimento.\n",
    "\n"
   ]
  },
  {
   "cell_type": "code",
   "execution_count": 3,
   "metadata": {},
   "outputs": [],
   "source": [
    "# Describe some characteristics of the dataset.\n",
    "print(train_dataset.class_names)\n",
    "print(validation_dataset.class_names)\n",
    "print(train_dataset)\n",
    "print(validation_dataset)\n",
    "\n",
    "# Visualize one of the images in the dataset.\n",
    "import matplotlib.pyplot as plt\n",
    "\n",
    "plt.figure(figsize=(10, 10))\n",
    "for images, labels in train_dataset.take(1):\n",
    "    for i in range(9):\n",
    "        ax = plt.subplot(3, 3, i + 1)\n",
    "        plt.imshow(images[i].numpy().astype(\"uint8\"))\n",
    "        plt.title(train_dataset.class_names[labels[i]])\n",
    "        plt.axis(\"off\")"
   ]
  },
  {
   "cell_type": "markdown",
   "metadata": {},
   "source": [
    "### Model Definition"
   ]
  },
  {
   "cell_type": "code",
   "execution_count": 23,
   "metadata": {},
   "outputs": [],
   "source": [
    "neural_networks = [\n",
    "    {\n",
    "        'description': 'Conv2D_MaxPooling_Conv2D',\n",
    "        'model': Sequential([\n",
    "                    Convolution2D(filters=32, kernel_size=(3, 3), activation='relu', input_shape=(150, 150, 3)),\n",
    "                    MaxPooling2D(pool_size=(2, 2)),\n",
    "                    Convolution2D(filters=32, kernel_size=(3, 3), activation='relu'),\n",
    "                    Flatten(input_shape=(150, 150, 3)),\n",
    "                    Dense(units=6, activation='softmax')\n",
    "                    ]\n",
    "                ),\n",
    "        'epochs': 10,\n",
    "        # 'steps_per_epoch': 100,\n",
    "        # 'validation_steps': 10,\n",
    "        'optimizer': Adam(learning_rate=0.0001),\n",
    "        'loss_function': 'categorical_crossentropy',\n",
    "        'accuracy': None,\n",
    "        'loss': None,\n",
    "        'training_time': None,\n",
    "    }\n",
    "]"
   ]
  },
  {
   "cell_type": "code",
   "execution_count": 24,
   "metadata": {},
   "outputs": [
    {
     "name": "stdout",
     "output_type": "stream",
     "text": [
      "{'description': 'Conv2D_MaxPooling_Conv2D', 'model': <keras.src.engine.sequential.Sequential object at 0x7f71d9f6f550>, 'epochs': 10, 'optimizer': <keras.src.optimizers.adam.Adam object at 0x7f71d9dd0d60>, 'loss_function': 'categorical_crossentropy', 'accuracy': None, 'loss': None, 'training_time': None}\n"
     ]
    }
   ],
   "source": [
    "for nn in neural_networks:\n",
    "    model = nn['model']\n",
    "    print(nn)\n",
    "    model.compile(optimizer=nn['optimizer'], loss=nn['loss_function'], metrics=['accuracy'])"
   ]
  },
  {
   "cell_type": "code",
   "execution_count": 25,
   "metadata": {},
   "outputs": [
    {
     "name": "stdout",
     "output_type": "stream",
     "text": [
      "Epoch 1/10\n"
     ]
    },
    {
     "name": "stdout",
     "output_type": "stream",
     "text": [
      "220/220 - 212s - loss: 27.3915 - accuracy: 0.4697 - val_loss: 3.3073 - val_accuracy: 0.5683 - 212s/epoch - 966ms/step\n",
      "Epoch 2/10\n",
      "220/220 - 198s - loss: 1.7071 - accuracy: 0.6738 - val_loss: 2.6072 - val_accuracy: 0.5790 - 198s/epoch - 901ms/step\n",
      "Epoch 3/10\n",
      "220/220 - 213s - loss: 0.5504 - accuracy: 0.8422 - val_loss: 2.3823 - val_accuracy: 0.6070 - 213s/epoch - 969ms/step\n",
      "Epoch 4/10\n",
      "220/220 - 200s - loss: 0.2133 - accuracy: 0.9370 - val_loss: 2.5030 - val_accuracy: 0.6120 - 200s/epoch - 910ms/step\n",
      "Epoch 5/10\n",
      "220/220 - 193s - loss: 0.1035 - accuracy: 0.9726 - val_loss: 2.6042 - val_accuracy: 0.6203 - 193s/epoch - 878ms/step\n",
      "Epoch 6/10\n",
      "220/220 - 201s - loss: 0.0636 - accuracy: 0.9865 - val_loss: 2.6083 - val_accuracy: 0.6347 - 201s/epoch - 916ms/step\n",
      "Epoch 7/10\n",
      "220/220 - 209s - loss: 0.0474 - accuracy: 0.9922 - val_loss: 2.7614 - val_accuracy: 0.6117 - 209s/epoch - 951ms/step\n",
      "Epoch 8/10\n",
      "220/220 - 237s - loss: 0.0373 - accuracy: 0.9947 - val_loss: 2.7442 - val_accuracy: 0.6287 - 237s/epoch - 1s/step\n",
      "Epoch 9/10\n",
      "220/220 - 211s - loss: 0.0366 - accuracy: 0.9967 - val_loss: 2.7753 - val_accuracy: 0.6253 - 211s/epoch - 961ms/step\n",
      "Epoch 10/10\n",
      "220/220 - 155s - loss: 0.0363 - accuracy: 0.9968 - val_loss: 2.6796 - val_accuracy: 0.6330 - 155s/epoch - 706ms/step\n"
     ]
    }
   ],
   "source": [
    "for nn in neural_networks:\n",
    "    model = nn['model']\n",
    "    model.fit(\n",
    "        train_dataset,\n",
    "        validation_data=validation_dataset,\n",
    "        epochs=nn['epochs'],\n",
    "        verbose=2\n",
    "    )\n"
   ]
  },
  {
   "cell_type": "markdown",
   "metadata": {},
   "source": [
    "## Prediction"
   ]
  },
  {
   "cell_type": "code",
   "execution_count": null,
   "metadata": {},
   "outputs": [],
   "source": [
    "# predictions = model.predict(prediction_dataset, verbose=2)"
   ]
  },
  {
   "cell_type": "markdown",
   "metadata": {},
   "source": [
    "## Visualizing"
   ]
  },
  {
   "cell_type": "code",
   "execution_count": null,
   "metadata": {},
   "outputs": [],
   "source": [
    "# from sklearn.metrics import confusion_matrix\n",
    "\n",
    "# y_pred = np.argmax(predictions, axis=1)\n",
    "# y_true = np.concatenate([y for x, y in prediction_dataset], axis=0)\n",
    "# cm = confusion_matrix(y_true, y_pred)"
   ]
  }
 ],
 "metadata": {
  "kernelspec": {
   "display_name": "ml",
   "language": "python",
   "name": "python3"
  },
  "language_info": {
   "codemirror_mode": {
    "name": "ipython",
    "version": 3
   },
   "file_extension": ".py",
   "mimetype": "text/x-python",
   "name": "python",
   "nbconvert_exporter": "python",
   "pygments_lexer": "ipython3",
   "version": "3.9.0"
  }
 },
 "nbformat": 4,
 "nbformat_minor": 2
}
